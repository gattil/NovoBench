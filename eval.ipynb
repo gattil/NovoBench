{
 "cells": [
  {
   "cell_type": "code",
   "execution_count": 1,
   "id": "b99aec44-4ff2-427a-8518-280305598e8b",
   "metadata": {},
   "outputs": [],
   "source": [
    "# pd读取csv文件\n",
    "\n",
    "import pandas as pd\n",
    "from novobench.metrics.evaluate  import aa_match_batch,aa_match_metrics\n",
    "import numpy as np\n",
    "\n",
    "\n",
    "\n",
    "def get_result(filename):\n",
    "    data = pd.read_csv(filename, header=None,na_values=['', ' '])\n",
    "    data = data.fillna('')\n",
    "    # 设置dataframe的列名\n",
    "    data.columns = ['peptides_true', 'peptides_pred', 'peptides_score']\n",
    "    df =data\n",
    "\n",
    "    mass_Phosphorylation = 79.96633\n",
    "    STD_AA_MASS = {\n",
    "    \"G\": 57.021464,\n",
    "    \"A\": 71.037114,\n",
    "    \"S\": 87.032028,\n",
    "    \"P\": 97.052764,\n",
    "    \"V\": 99.068414,\n",
    "    \"T\": 101.047670,\n",
    "    \"C(+57.02)\": 160.030649,\n",
    "    # \"C\": 160.030649 # V1\n",
    "    \"L\": 113.084064,\n",
    "    \"I\": 113.084064,\n",
    "    \"N\": 114.042927,\n",
    "    \"D\": 115.026943,\n",
    "    \"Q\": 128.058578,\n",
    "    \"K\": 128.094963,\n",
    "    \"E\": 129.042593,\n",
    "    \"M\": 131.040485,\n",
    "    \"H\": 137.058912,\n",
    "    \"F\": 147.068414,\n",
    "    \"R\": 156.101111,\n",
    "    \"Y\": 163.063329,\n",
    "    \"W\": 186.079313,\n",
    "    \"M(+15.99)\": 147.035400,\n",
    "    \"N(+.98)\": 115.026943,\n",
    "    \"Q(+.98)\": 129.042594\n",
    "    }\n",
    "\n",
    "    match_ret = aa_match_batch(\n",
    "            df['peptides_true'],\n",
    "            df['peptides_pred'],\n",
    "            STD_AA_MASS,\n",
    "            ['M(+15.99)','N(+.98)','Q(+.98)'],\n",
    "        # ['M+15.995','N+0.984','Q+0.984']\n",
    "    )\n",
    "    df['peptides_score'] = df['peptides_score'].replace(['nan', ''], np.nan)\n",
    "    df['peptides_score'] = df['peptides_score'].astype(float).fillna(-np.inf)\n",
    "\n",
    "    metrics_dict = aa_match_metrics(\n",
    "        *match_ret, df['peptides_score']\n",
    "    )#  metrics_dict = {\"aa_precision\" : float,\"aa_recall\" : float,\"pep_precision\" : float,\"ptm_recall\" : float,\"ptm_precision\" : float,\"curve_auc\" : float}\n",
    "\n",
    "\n",
    "    print(\"—————————— Validation Results ——————————\")\n",
    "    for key, value in metrics_dict.items():\n",
    "        print(f\"{key}:\\t {value}\")\n",
    "\n",
    "\n",
    "\n"
   ]
  },
  {
   "cell_type": "code",
   "execution_count": 2,
   "id": "e0be02c1",
   "metadata": {},
   "outputs": [
    {
     "name": "stdout",
     "output_type": "stream",
     "text": [
      "AA dict:  {'G': 57.021464, 'A': 71.037114, 'S': 87.032028, 'P': 97.052764, 'V': 99.068414, 'T': 101.04767, 'C(+57.02)': 160.030649, 'L': 113.084064, 'I': 113.084064, 'N': 114.042927, 'D': 115.026943, 'Q': 128.058578, 'K': 128.094963, 'E': 129.042593, 'M': 131.040485, 'H': 137.058912, 'F': 147.068414, 'R': 156.101111, 'Y': 163.063329, 'W': 186.079313, 'M(+15.99)': 147.0354, 'N(+.98)': 115.026943, 'Q(+.98)': 129.042594}\n",
      "PTM dict:  ['M(+15.99)', 'N(+.98)', 'Q(+.98)']\n",
      "PTM number: 12  ;  4\n",
      "—————————— Validation Results ——————————\n",
      "aa_precision:\t 0.14363143631339004\n",
      "aa_recall:\t 0.13910761154764367\n",
      "pep_precision:\t 0.019999999998\n",
      "ptm_recall:\t 0.0\n",
      "ptm_precision:\t 0.249999999375\n",
      "curve_auc:\t 0.0009307359307359307\n"
     ]
    }
   ],
   "source": [
    "filename = 'o.csv'\n",
    "get_result(filename)"
   ]
  },
  {
   "cell_type": "code",
   "execution_count": null,
   "id": "230ebb7a-b846-4e3a-ae01-c750ba0fa64d",
   "metadata": {},
   "outputs": [],
   "source": []
  }
 ],
 "metadata": {
  "kernelspec": {
   "display_name": "pynovo",
   "language": "python",
   "name": "python3"
  },
  "language_info": {
   "codemirror_mode": {
    "name": "ipython",
    "version": 3
   },
   "file_extension": ".py",
   "mimetype": "text/x-python",
   "name": "python",
   "nbconvert_exporter": "python",
   "pygments_lexer": "ipython3",
   "version": "3.10.0"
  }
 },
 "nbformat": 4,
 "nbformat_minor": 5
}
